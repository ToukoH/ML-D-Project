{
 "cells": [
  {
   "cell_type": "code",
   "execution_count": 7,
   "metadata": {},
   "outputs": [],
   "source": [
    "from sklearn.linear_model import LogisticRegression\n",
    "from sklearn.svm import SVC\n",
    "from sklearn.model_selection import train_test_split\n",
    "from sklearn.metrics import accuracy_score\n",
    "import pandas as pd"
   ]
  },
  {
   "cell_type": "code",
   "execution_count": 3,
   "metadata": {},
   "outputs": [],
   "source": [
    "df = pd.read_csv(\"../data/diabetes.csv\")"
   ]
  },
  {
   "cell_type": "markdown",
   "metadata": {},
   "source": [
    "#### Defining feature and label vectors"
   ]
  },
  {
   "cell_type": "code",
   "execution_count": 4,
   "metadata": {},
   "outputs": [],
   "source": [
    "X = df.drop(\"Outcome\", axis=\"columns\")"
   ]
  },
  {
   "cell_type": "code",
   "execution_count": 5,
   "metadata": {},
   "outputs": [],
   "source": [
    "y = df[\"Outcome\"]"
   ]
  },
  {
   "cell_type": "markdown",
   "metadata": {},
   "source": [
    "Next we split our data into training and testing data. This is done by train_test_split function imported from sklearn.metrics module. The function basically shuffles and splits the data by a given parameter test_size (usually 0.2 = 20% is for validation)."
   ]
  },
  {
   "cell_type": "code",
   "execution_count": 8,
   "metadata": {},
   "outputs": [],
   "source": [
    "X_train, X_test, y_train, y_test = train_test_split(X, y, test_size=0.2)"
   ]
  },
  {
   "cell_type": "markdown",
   "metadata": {},
   "source": [
    "Defining a function for calculating average accuracy score for SVM and Logistic regression for different test and training samples. "
   ]
  },
  {
   "cell_type": "code",
   "execution_count": 48,
   "metadata": {},
   "outputs": [],
   "source": [
    "def train_model(model: LogisticRegression | SVC):\n",
    "    X_train, X_test, y_train, y_test = train_test_split(X, y, test_size=0.2)\n",
    "    model.fit(X_train, y_train)\n",
    "    y_pred = model.predict(X_test)\n",
    "    accuracy = accuracy_score(y_test, y_pred)\n",
    "\n",
    "    return accuracy"
   ]
  },
  {
   "cell_type": "markdown",
   "metadata": {},
   "source": [
    "Let's start with averaging the accuracy scores of 30 Logistic regression models"
   ]
  },
  {
   "cell_type": "code",
   "execution_count": 49,
   "metadata": {},
   "outputs": [
    {
     "name": "stdout",
     "output_type": "stream",
     "text": [
      "Average accuracy score of the Logistic Regression model is: 0.7662337662337664\n"
     ]
    }
   ],
   "source": [
    "accuracy_scores_sum_log_reg = 0\n",
    "no_iterations = 30\n",
    "\n",
    "for i in range(1, 31):\n",
    "    num = train_model(LogisticRegression(max_iter=10000))\n",
    "    accuracy_scores_sum_log_reg = accuracy_scores_sum_log_reg + num\n",
    "\n",
    "print(f\"Average accuracy score of the Logistic Regression model is: {accuracy_scores_sum_log_reg/no_iterations}\")"
   ]
  },
  {
   "cell_type": "code",
   "execution_count": 51,
   "metadata": {},
   "outputs": [
    {
     "name": "stdout",
     "output_type": "stream",
     "text": [
      "Average accuracy score of the SVM is: 0.756060606060606\n"
     ]
    }
   ],
   "source": [
    "accuracy_scores_sum_svc = 0\n",
    "\n",
    "for i in range(1, 31):\n",
    "    num = train_model(SVC(max_iter=10000))\n",
    "    accuracy_scores_sum_svc = accuracy_scores_sum_svc + num\n",
    "\n",
    "print(f\"Average accuracy score of the SVM is: {accuracy_scores_sum_svc/no_iterations}\")"
   ]
  },
  {
   "cell_type": "markdown",
   "metadata": {},
   "source": [
    "As we can see, the logistic regression performs better. We ran both of those for loops ten times and logistic regression won nine times out of ten. We did not document this for readibility reasons.\n",
    "\n",
    "After this validation, it is safe to select Logistic Regression as our model."
   ]
  }
 ],
 "metadata": {
  "kernelspec": {
   "display_name": "venv",
   "language": "python",
   "name": "python3"
  },
  "language_info": {
   "codemirror_mode": {
    "name": "ipython",
    "version": 3
   },
   "file_extension": ".py",
   "mimetype": "text/x-python",
   "name": "python",
   "nbconvert_exporter": "python",
   "pygments_lexer": "ipython3",
   "version": "3.10.5"
  },
  "orig_nbformat": 4
 },
 "nbformat": 4,
 "nbformat_minor": 2
}
